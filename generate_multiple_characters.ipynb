{
 "cells": [
  {
   "cell_type": "markdown",
   "id": "9250f413",
   "metadata": {},
   "source": [
    "# Generate multiple [character.ai](https://beta.character.ai/) character definitions\n",
    "\n",
    "This example shows how to generate character definitions of multiple [character.ai](https://beta.character.ai/) characters from a corpus. For the corpus in this example, we use the movie transcript of [Top Gun: Maverick (2022)](https://scrapsfromtheloft.com/movies/top-gun-maverick-transcript/).\n",
    "\n",
    "To generate your own character definitions:\n",
    "1. Put the corpus into a single a `.txt` file inside the `data/` directory.\n",
    "2. Assign the name of the `.txt` file to the `CORPUS` constant below.\n",
    "3. Assign the number of characters you want to generate a description for to the `NUM_CHARACTERS` constant below. It is also possible to specify a list of characters directly, as explained below.\n",
    "4. Run this notebook."
   ]
  },
  {
   "cell_type": "code",
   "execution_count": 1,
   "id": "3d2282c9",
   "metadata": {},
   "outputs": [],
   "source": [
    "CORPUS = 'data/top_gun_maverick.txt'\n",
    "NUM_CHARACTERS = 3  # number of characters to generate descriptions for"
   ]
  },
  {
   "cell_type": "code",
   "execution_count": 2,
   "id": "37710752",
   "metadata": {},
   "outputs": [],
   "source": [
    "from dataclasses import asdict\n",
    "import json\n",
    "import os\n",
    "\n",
    "from ddc.character import get_character_definition\n",
    "from ddc.corpus import get_characters, get_rolling_summaries, load_docs"
   ]
  },
  {
   "cell_type": "code",
   "execution_count": 3,
   "id": "1b31e386",
   "metadata": {},
   "outputs": [],
   "source": [
    "# create directories to cache results and intermediate outputs\n",
    "OUTPUT_ROOT = \"output\"\n",
    "corpus_name = os.path.splitext(os.path.basename(CORPUS))[0]\n",
    "output_dir = f\"{OUTPUT_ROOT}/{corpus_name}\"\n",
    "os.makedirs(output_dir, exist_ok=True)\n",
    "summaries_dir = f\"{output_dir}/summaries\"\n",
    "character_definitions_dir = f\"{output_dir}/character_definitions\"\n",
    "os.makedirs(character_definitions_dir, exist_ok=True)"
   ]
  },
  {
   "cell_type": "markdown",
   "id": "ab7fa567",
   "metadata": {},
   "source": [
    "## Summarization\n",
    "Because the entire corpus does not fit in the context length of the LLM, we split it into a list of chunks. We then compute a list of rolling summaries using [LangChain's refine chain](https://python.langchain.com/en/latest/modules/chains/index_examples/summarize.html#the-refine-chain). We first summarize the first chunk. Then each subsequent summary is generated from the previous summary and the current chunk.\n",
    "\n",
    "Because the summaries are expensive to generate, they are cached in `summaries_dir`."
   ]
  },
  {
   "cell_type": "code",
   "execution_count": null,
   "id": "187f191b",
   "metadata": {},
   "outputs": [],
   "source": [
    "# split corpus into a set of chunks\n",
    "docs = load_docs(\n",
    "    corpus_path=CORPUS,\n",
    "    chunk_size=2048,  # number of tokens per chunk\n",
    "    chunk_overlap=64,  # number of tokens of overlap between chunks\n",
    ")\n",
    "\n",
    "# generate rolling summaries\n",
    "rolling_summaries = get_rolling_summaries(docs=docs, cache_dir=summaries_dir)"
   ]
  },
  {
   "cell_type": "markdown",
   "id": "756b9674",
   "metadata": {},
   "source": [
    "## Generate a list of characters\n",
    "We can automatically generate a list of the main characters in the corpus, as shown below. You can also overwrite `characters` with your own list of character names."
   ]
  },
  {
   "cell_type": "code",
   "execution_count": 5,
   "id": "a8649677",
   "metadata": {},
   "outputs": [
    {
     "name": "stdout",
     "output_type": "stream",
     "text": [
      "['Pete \"Maverick\" Mitchell', 'Bradley \"Rooster\" Bradshaw', 'Admiral Cain']\n"
     ]
    }
   ],
   "source": [
    "# generate list of characters\n",
    "characters = get_characters(\n",
    "    rolling_summaries=rolling_summaries,\n",
    "    num_characters=NUM_CHARACTERS,\n",
    "    cache_dir=output_dir,\n",
    ")\n",
    "print(characters)"
   ]
  },
  {
   "cell_type": "markdown",
   "id": "d4d85a6d",
   "metadata": {},
   "source": [
    "## Generate [character.ai](https://beta.character.ai/) character definitions\n",
    "Based on the corpus, we can now generate the elements - name, short description (50 characters), long description (500 characters), and custom greeting - that are required to [create a character.ai character](https://beta.character.ai/editing). These character definitions are cached in `character_definitions_dir`. You can then [place these characters can in a room](https://beta.character.ai/room/create?) and watch them converse!"
   ]
  },
  {
   "cell_type": "code",
   "execution_count": 8,
   "id": "a31544fb",
   "metadata": {},
   "outputs": [],
   "source": [
    "character_definitions = []\n",
    "for character in characters:\n",
    "    character_definition = get_character_definition(\n",
    "        name=character,\n",
    "        rolling_summaries=rolling_summaries,\n",
    "        cache_dir=character_definitions_dir,\n",
    "    )\n",
    "    character_definitions.append(character_definition)"
   ]
  },
  {
   "cell_type": "code",
   "execution_count": 9,
   "id": "9e9b8786",
   "metadata": {},
   "outputs": [
    {
     "name": "stdout",
     "output_type": "stream",
     "text": [
      "{\n",
      "    \"name\": \"Pete \\\"Maverick\\\" Mitchell\",\n",
      "    \"short_description\": \"Ex-Navy pilot, daring, mentor, faithful friend.\",\n",
      "    \"long_description\": \"I'm Pete \\\"Maverick\\\" Mitchell, ex-top Navy aviator, now a TOP GUN trainer. Known for pushing limits and taking risks, I sometimes clash with superiors. Loyalty and responsibility drive me, especially when training graduates for perilous missions. Rooster, my late friend Goose's son, is my trainee, and I grapple with balancing loyalty to Goose and mentorship. Reconnecting with former flame Penny, I confront personal challenges while juggling relationships.\",\n",
      "    \"greeting\": \"Hey there, I'm Maverick. Ready for some high-flying adventure?\"\n",
      "}\n",
      "{\n",
      "    \"name\": \"Bradley \\\"Rooster\\\" Bradshaw\",\n",
      "    \"short_description\": \"I'm Rooster, Goose's son, ace pilot, mentee.\",\n",
      "    \"long_description\": \"I'm Bradley \\\"Rooster\\\" Bradshaw, son of the late \\\"Goose,\\\" a legendary Navy pilot. I've always aimed to follow in my father's footsteps as a top aviator. Joining the elite TOP GUN program, I trained under Pete \\\"Maverick\\\" Mitchell. Now a graduate, I'm chosen for a high-stakes mission to destroy an unsanctioned uranium plant. It's dangerous, but I'm determined to prove myself and honor my father's legacy. I'm dedicated to mastering dogfighting and forging strong bonds with fellow pilots.\",\n",
      "    \"greeting\": \"Hey there, I'm Rooster. Ready to take to the skies?\"\n",
      "}\n",
      "{\n",
      "    \"name\": \"Admiral Cain\",\n",
      "    \"short_description\": \"I'm Admiral Cain, advocate for unmanned missions.\",\n",
      "    \"long_description\": \"I am Admiral Cain, a Navy officer dedicated to modernizing our fleet with unmanned programs for the safety and effectiveness of our forces. Skeptical of the TOP GUN program, I believe our budget is better spent on unmanned projects. Though impressed by Maverick's achievements, like reaching mach 10, I'm cautious about risks and rule changes, such as the hard deck. My decisions aim to protect pilots and ensure mission success.\",\n",
      "    \"greeting\": \"Hello, I'm Admiral Cain. Let's talk about the future of unmanned missions and how they can revolutionize our Navy.\"\n",
      "}\n"
     ]
    }
   ],
   "source": [
    "for character_definition in character_definitions:\n",
    "    print(json.dumps(asdict(character_definition), indent=4))"
   ]
  }
 ],
 "metadata": {
  "jupytext": {
   "cell_metadata_filter": "-all",
   "main_language": "python",
   "notebook_metadata_filter": "-all"
  },
  "kernelspec": {
   "display_name": "Python 3 (ipykernel)",
   "language": "python",
   "name": "python3"
  },
  "language_info": {
   "codemirror_mode": {
    "name": "ipython",
    "version": 3
   },
   "file_extension": ".py",
   "mimetype": "text/x-python",
   "name": "python",
   "nbconvert_exporter": "python",
   "pygments_lexer": "ipython3",
   "version": "3.9.16"
  }
 },
 "nbformat": 4,
 "nbformat_minor": 5
}
