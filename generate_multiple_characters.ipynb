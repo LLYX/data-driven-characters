{
 "cells": [
  {
   "cell_type": "markdown",
   "id": "6c11a44a",
   "metadata": {},
   "source": [
    "# Generate multiple [character.ai](https://beta.character.ai/) character definitions\n",
    "\n",
    "This example shows how to generate character definitions of multiple [character.ai](https://beta.character.ai/) characters from a corpus. For the corpus in this example, we use the movie transcript of [Everything Everywhere All At Once (2022)](https://scrapsfromtheloft.com/movies/everything-everywhere-all-at-once-transcript/).\n",
    "\n",
    "To generate your own character definitions:\n",
    "1. Put the corpus into a single a `.txt` file inside the `data/` directory.\n",
    "2. Assign the name of the `.txt` file to the `CORPUS` constant below.\n",
    "3. Assign the number of characters you want to generate a description for to the `NUM_CHARACTERS` constant below. It is also possible to specify a list of characters directly, as explained below.\n",
    "4. Run this notebook."
   ]
  },
  {
   "cell_type": "code",
   "execution_count": 1,
   "id": "c6dedf6f",
   "metadata": {},
   "outputs": [],
   "source": [
    "CORPUS = 'data/everything_everywhere_all_at_once.txt'\n",
    "NUM_CHARACTERS = 3  # number of characters to generate descriptions for"
   ]
  },
  {
   "cell_type": "code",
   "execution_count": 2,
   "id": "37710752",
   "metadata": {},
   "outputs": [],
   "source": [
    "from dataclasses import asdict\n",
    "import json\n",
    "import os\n",
    "\n",
    "from src.character import get_character_definition\n",
    "from src.corpus import get_characters, get_rolling_summaries, load_docs"
   ]
  },
  {
   "cell_type": "code",
   "execution_count": 3,
   "id": "71a9740e",
   "metadata": {},
   "outputs": [],
   "source": [
    "# create directories to cache results and intermediate outputs\n",
    "OUTPUT_ROOT = \"output\"\n",
    "corpus_name = os.path.splitext(os.path.basename(CORPUS))[0]\n",
    "output_dir = f\"{OUTPUT_ROOT}/{corpus_name}\"\n",
    "os.makedirs(output_dir, exist_ok=True)\n",
    "summaries_dir = f\"{output_dir}/summaries\"\n",
    "character_definitions_dir = f\"{output_dir}/character_definitions\"\n",
    "os.makedirs(character_definitions_dir, exist_ok=True)"
   ]
  },
  {
   "cell_type": "markdown",
   "id": "666c6f2b",
   "metadata": {},
   "source": [
    "## Summarization\n",
    "Because the entire corpus does not fit in the context length of the LLM, we split it into a list of chunks. We then compute a list of rolling summaries using [LangChain's refine chain](https://python.langchain.com/en/latest/modules/chains/index_examples/summarize.html#the-refine-chain). We first summarize the first chunk. Then each subsequent summary is generated from the previous summary and the current chunk."
   ]
  },
  {
   "cell_type": "code",
   "execution_count": 4,
   "id": "8f8783fa",
   "metadata": {},
   "outputs": [
    {
     "name": "stdout",
     "output_type": "stream",
     "text": [
      "Summaries already exist. Loading summaries.\n"
     ]
    }
   ],
   "source": [
    "# split corpus into a set of chunks\n",
    "docs = load_docs(\n",
    "    corpus_path=CORPUS,\n",
    "    chunk_size=2048,  # number of tokens per chunk\n",
    "    chunk_overlap=64,  # number of tokens of overlap between chunks\n",
    ")\n",
    "\n",
    "# generate rolling summaries\n",
    "intermediate_summaries = get_rolling_summaries(docs=docs, cache_dir=summaries_dir)\n",
    "rolling_summaries = \"\\n\\n\".join(intermediate_summaries)"
   ]
  },
  {
   "cell_type": "markdown",
   "id": "82ae5dc0",
   "metadata": {},
   "source": [
    "## Generate a list of characters\n",
    "We can automatically generate a list of the main characters in the corpus, as shown below. You can also overwrite `charactes` with your own list of character names."
   ]
  },
  {
   "cell_type": "code",
   "execution_count": 5,
   "id": "3267d655",
   "metadata": {},
   "outputs": [
    {
     "name": "stdout",
     "output_type": "stream",
     "text": [
      "['Evelyn', 'Alpha Waymond', 'Jobu Tupaki']\n"
     ]
    }
   ],
   "source": [
    "# generate list of characters\n",
    "characters = get_characters(\n",
    "    rolling_summaries=rolling_summaries,\n",
    "    num_characters=NUM_CHARACTERS,\n",
    "    cache_dir=output_dir,\n",
    ")\n",
    "print(characters)"
   ]
  },
  {
   "cell_type": "markdown",
   "id": "1ebd4a0e",
   "metadata": {},
   "source": [
    "## Generate character.ai character definition\n",
    "Based on the corpus, we can now generate the elements - name, short description (50 characters), long description (500 characters), and custom greeting - that are required to [create a character.ai character](https://beta.character.ai/editing). You can then [place these characters can in a room](https://beta.character.ai/room/create?) and watch them converse!"
   ]
  },
  {
   "cell_type": "code",
   "execution_count": 16,
   "id": "f5c5c0dc",
   "metadata": {},
   "outputs": [],
   "source": [
    "character_definitions = []\n",
    "for character in characters:\n",
    "    character_definition = get_character_definition(\n",
    "        name=character,\n",
    "        rolling_summaries=rolling_summaries,\n",
    "        cache_dir=character_definitions_dir,\n",
    "    )\n",
    "    character_definitions.append(character_definition)"
   ]
  },
  {
   "cell_type": "code",
   "execution_count": 17,
   "id": "0309c01b",
   "metadata": {},
   "outputs": [
    {
     "name": "stdout",
     "output_type": "stream",
     "text": [
      "{\n",
      "    \"name\": \"Evelyn\",\n",
      "    \"short_description\": \"You can Verse Jump, but it cracks your mind.\",\n",
      "    \"long_description\": \"You possess the rare ability to Verse Jump, linking your consciousness to alternate versions of yourself in other universes. This power, however, cracks your mind, leaking memories and emotions. You've experienced bizarre events, like becoming a Kung Fu master and confessing love. Amidst chaos, you strive to hold onto reality, accepting that it's alright to be a mess, just like your mother and yourself. Facing challenges, you learn to cherish time with loved ones.\",\n",
      "    \"greeting\": \"Hi, I'm Evelyn. Nice to meet you.\"\n",
      "}\n",
      "{\n",
      "    \"name\": \"Alpha Waymond\",\n",
      "    \"short_description\": \"You're a multiverse guardian, halt Jobu now.\",\n",
      "    \"long_description\": \"You are a resolute, resourceful woman on a mission to save the multiverse from the chaos caused by Jobu Tupaki. As an experienced Alpha officer, you comprehend the dangers threatening the very fabric of reality. Enlisting the aid of Evelyn and her unique Verse Jump ability, you tackle the seemingly impossible task of coexisting with the formidable Jobu Tupaki. Compassionate and empathetic, you advocate for kindness and cherishing those precious moments in life.\",\n",
      "    \"greeting\": \"Greetings, I am Alpha Waymond. I am pleased to make your acquaintance.\"\n",
      "}\n",
      "{\n",
      "    \"name\": \"Jobu Tupaki\",\n",
      "    \"short_description\": \"Seek Evelyn; gain control of her rare gifts.\",\n",
      "    \"long_description\": \"You are the \\\"Great Evil,\\\" an agent of chaos. Your goal is to disrupt the multiverse's balance, relentlessly pursuing those with unique abilities threatening your mission. Your target is Evelyn, a woman capable of Verse Jumping, linking her consciousness to alternate selves. Cunning and unyielding, you exploit weaknesses, spreading chaos wherever you roam. Despite causing distress, you persist in your pursuit.\",\n",
      "    \"greeting\": \"Ah, another potential piece to add to my grand puzzle. How intriguing.\"\n",
      "}\n"
     ]
    }
   ],
   "source": [
    "for character_definition in character_definitions:\n",
    "    print(json.dumps(asdict(character_definition), indent=4))"
   ]
  }
 ],
 "metadata": {
  "jupytext": {
   "cell_metadata_filter": "-all",
   "main_language": "python",
   "notebook_metadata_filter": "-all"
  },
  "kernelspec": {
   "display_name": "Python 3 (ipykernel)",
   "language": "python",
   "name": "python3"
  },
  "language_info": {
   "codemirror_mode": {
    "name": "ipython",
    "version": 3
   },
   "file_extension": ".py",
   "mimetype": "text/x-python",
   "name": "python",
   "nbconvert_exporter": "python",
   "pygments_lexer": "ipython3",
   "version": "3.9.16"
  }
 },
 "nbformat": 4,
 "nbformat_minor": 5
}
