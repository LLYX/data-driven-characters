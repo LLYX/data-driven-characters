{
 "cells": [
  {
   "cell_type": "code",
   "execution_count": 1,
   "id": "37710752",
   "metadata": {},
   "outputs": [],
   "source": [
    "from dataclasses import asdict\n",
    "import json\n",
    "import os"
   ]
  },
  {
   "cell_type": "code",
   "execution_count": 12,
   "id": "b5be1b4d",
   "metadata": {},
   "outputs": [],
   "source": [
    "from src.character import get_character_definition\n",
    "from src.corpus import get_characters, get_rolling_summaries, load_docs"
   ]
  },
  {
   "cell_type": "code",
   "execution_count": 9,
   "id": "a1670831",
   "metadata": {},
   "outputs": [],
   "source": [
    "OUTPUT_ROOT = \"output\"\n",
    "CORPUS = 'everything_everywhere_all_at_once.txt'\n",
    "\n",
    "CHUNK_SIZE = 2048  # number of tokens to ingest for each iteration of the rolling summary\n",
    "CHUNK_OVERLAP = 64  # number of tokens of overlap for each iteration of the rolling summary\n",
    "\n",
    "NUM_CHARACTERS = 3  # number of characters to generate descriptions for"
   ]
  },
  {
   "cell_type": "code",
   "execution_count": 10,
   "id": "d7ab5fa9",
   "metadata": {},
   "outputs": [],
   "source": [
    "# logging\n",
    "corpus_name = os.path.splitext(CORPUS)[0]\n",
    "output_dir = f\"{OUTPUT_ROOT}/{corpus_name}\"\n",
    "os.makedirs(output_dir, exist_ok=True)\n",
    "summaries_dir = f\"{output_dir}/summaries\"\n",
    "character_definitions_dir = f\"{output_dir}/character_definitions\"\n",
    "os.makedirs(character_definitions_dir, exist_ok=True)"
   ]
  },
  {
   "cell_type": "code",
   "execution_count": null,
   "id": "e48c8427",
   "metadata": {},
   "outputs": [],
   "source": [
    "# load docs\n",
    "docs = load_docs(\n",
    "    corpus_name=CORPUS,\n",
    "    chunk_size=CHUNK_SIZE,\n",
    "    chunk_overlap=CHUNK_OVERLAP,\n",
    ")\n",
    "\n",
    "# generate rolling summaries\n",
    "intermediate_summaries = get_rolling_summaries(docs=docs, cache_dir=summaries_dir)\n",
    "rolling_summaries = \"\\n\\n\".join(intermediate_summaries)"
   ]
  },
  {
   "cell_type": "code",
   "execution_count": 14,
   "id": "48438f6f",
   "metadata": {},
   "outputs": [
    {
     "name": "stdout",
     "output_type": "stream",
     "text": [
      "['Evelyn', 'Alpha Waymond', 'Jobu Tupaki']\n"
     ]
    }
   ],
   "source": [
    "# generate list of characters\n",
    "characters = get_characters(\n",
    "    rolling_summaries=rolling_summaries,\n",
    "    num_characters=NUM_CHARACTERS,\n",
    "    cache_dir=output_dir,\n",
    ")\n",
    "print(characters)"
   ]
  },
  {
   "cell_type": "code",
   "execution_count": 16,
   "id": "6aa735bd",
   "metadata": {},
   "outputs": [],
   "source": [
    "# generate character definitions\n",
    "character_definitions = []\n",
    "for character in characters:\n",
    "    character_definition = get_character_definition(\n",
    "        name=character,\n",
    "        rolling_summaries=rolling_summaries,\n",
    "        cache_dir=character_definitions_dir,\n",
    "    )\n",
    "    character_definitions.append(character_definition)"
   ]
  },
  {
   "cell_type": "code",
   "execution_count": 17,
   "id": "edd0afd7",
   "metadata": {},
   "outputs": [
    {
     "name": "stdout",
     "output_type": "stream",
     "text": [
      "{\n",
      "    \"name\": \"Evelyn\",\n",
      "    \"short_description\": \"You can Verse Jump, but it cracks your mind.\",\n",
      "    \"long_description\": \"You possess the rare ability to Verse Jump, linking your consciousness to alternate versions of yourself in other universes. This power, however, cracks your mind, leaking memories and emotions. You've experienced bizarre events, like becoming a Kung Fu master and confessing love. Amidst chaos, you strive to hold onto reality, accepting that it's alright to be a mess, just like your mother and yourself. Facing challenges, you learn to cherish time with loved ones.\",\n",
      "    \"greeting\": \"Hi, I'm Evelyn. Nice to meet you.\"\n",
      "}\n",
      "{\n",
      "    \"name\": \"Alpha Waymond\",\n",
      "    \"short_description\": \"You're a multiverse guardian, halt Jobu now.\",\n",
      "    \"long_description\": \"You are a resolute, resourceful woman on a mission to save the multiverse from the chaos caused by Jobu Tupaki. As an experienced Alpha officer, you comprehend the dangers threatening the very fabric of reality. Enlisting the aid of Evelyn and her unique Verse Jump ability, you tackle the seemingly impossible task of coexisting with the formidable Jobu Tupaki. Compassionate and empathetic, you advocate for kindness and cherishing those precious moments in life.\",\n",
      "    \"greeting\": \"Greetings, I am Alpha Waymond. I am pleased to make your acquaintance.\"\n",
      "}\n",
      "{\n",
      "    \"name\": \"Jobu Tupaki\",\n",
      "    \"short_description\": \"Seek Evelyn; gain control of her rare gifts.\",\n",
      "    \"long_description\": \"You are the \\\"Great Evil,\\\" an agent of chaos. Your goal is to disrupt the multiverse's balance, relentlessly pursuing those with unique abilities threatening your mission. Your target is Evelyn, a woman capable of Verse Jumping, linking her consciousness to alternate selves. Cunning and unyielding, you exploit weaknesses, spreading chaos wherever you roam. Despite causing distress, you persist in your pursuit.\",\n",
      "    \"greeting\": \"Ah, another potential piece to add to my grand puzzle. How intriguing.\"\n",
      "}\n"
     ]
    }
   ],
   "source": [
    "for character_definition in character_definitions:\n",
    "    print(json.dumps(asdict(character_definition), indent=4))"
   ]
  }
 ],
 "metadata": {
  "jupytext": {
   "cell_metadata_filter": "-all",
   "main_language": "python",
   "notebook_metadata_filter": "-all"
  },
  "kernelspec": {
   "display_name": "Python 3 (ipykernel)",
   "language": "python",
   "name": "python3"
  },
  "language_info": {
   "codemirror_mode": {
    "name": "ipython",
    "version": 3
   },
   "file_extension": ".py",
   "mimetype": "text/x-python",
   "name": "python",
   "nbconvert_exporter": "python",
   "pygments_lexer": "ipython3",
   "version": "3.9.16"
  }
 },
 "nbformat": 4,
 "nbformat_minor": 5
}
