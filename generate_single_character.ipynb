{
 "cells": [
  {
   "cell_type": "markdown",
   "id": "fc117634",
   "metadata": {},
   "source": [
    "# Generate a single [character.ai](https://beta.character.ai/) character definition\n",
    "\n",
    "This example shows how to generate the character definition of a single [character.ai](https://beta.character.ai/) character from a corpus. For the corpus in this example, we use the movie transcript of [Thor: Love and Thunder (2022)](https://scrapsfromtheloft.com/movies/thor-love-and-thunder-transcript/).\n",
    "\n",
    "To generate your own character definition:\n",
    "1. Put the corpus into a single a `.txt` file inside the `data/` directory.\n",
    "2. Assign the name of the `.txt` file to the `CORPUS` constant below.\n",
    "3. Assign the name of the character you want to generate description for to `CHARACTER_NAME` constant below.\n",
    "4. Run this notebook."
   ]
  },
  {
   "cell_type": "code",
   "execution_count": 1,
   "id": "fe123fbf",
   "metadata": {},
   "outputs": [],
   "source": [
    "CORPUS = 'data/thor_love_and_thunder.txt'\n",
    "CHARACTER_NAME = \"Jane Foster\"  # the name of the character we want to generate a description for"
   ]
  },
  {
   "cell_type": "code",
   "execution_count": 2,
   "id": "6c1c7fb5",
   "metadata": {},
   "outputs": [],
   "source": [
    "from dataclasses import asdict\n",
    "import json\n",
    "import os\n",
    "\n",
    "from src.character import get_character_definition\n",
    "from src.corpus import get_characters, get_rolling_summaries, load_docs"
   ]
  },
  {
   "cell_type": "code",
   "execution_count": 3,
   "id": "8298d68b",
   "metadata": {},
   "outputs": [],
   "source": [
    "# create directories to cache results and intermediate outputs\n",
    "OUTPUT_ROOT = \"output\"\n",
    "corpus_name = os.path.splitext(os.path.basename(CORPUS))[0]\n",
    "output_dir = f\"{OUTPUT_ROOT}/{corpus_name}\"\n",
    "os.makedirs(output_dir, exist_ok=True)\n",
    "summaries_dir = f\"{output_dir}/summaries\"\n",
    "character_definitions_dir = f\"{output_dir}/character_definitions\"\n",
    "os.makedirs(character_definitions_dir, exist_ok=True)"
   ]
  },
  {
   "cell_type": "markdown",
   "id": "acfb6960",
   "metadata": {},
   "source": [
    "## Summarization\n",
    "Because the entire corpus does not fit in the context length of the LLM, we split it into a list of chunks. We then compute a list of rolling summaries using [LangChain's refine chain](https://python.langchain.com/en/latest/modules/chains/index_examples/summarize.html#the-refine-chain). We first summarize the first chunk. Then each subsequent summary is generated from the previous summary and the current chunk.\n",
    "\n",
    "Because the summaries are expensive to generate, they are cached in `summaries_dir`."
   ]
  },
  {
   "cell_type": "code",
   "execution_count": null,
   "id": "f72b8d1c",
   "metadata": {},
   "outputs": [],
   "source": [
    "# split corpus into a set of chunks\n",
    "docs = load_docs(\n",
    "    corpus_path=CORPUS,\n",
    "    chunk_size=2048,  # number of tokens per chunk\n",
    "    chunk_overlap=64,  # number of tokens of overlap between chunks\n",
    ")\n",
    "\n",
    "# generate rolling summaries\n",
    "intermediate_summaries = get_rolling_summaries(docs=docs, cache_dir=summaries_dir)\n",
    "rolling_summaries = \"\\n\\n\".join(intermediate_summaries)"
   ]
  },
  {
   "cell_type": "markdown",
   "id": "85885944",
   "metadata": {},
   "source": [
    "## Generate character.ai character definition\n",
    "Based on the corpus, we can now generate the elements - name, short description (50 characters), long description (500 characters), and custom greeting - that are required to [create a character.ai character](https://beta.character.ai/editing). "
   ]
  },
  {
   "cell_type": "code",
   "execution_count": 5,
   "id": "45d827ce",
   "metadata": {},
   "outputs": [
    {
     "name": "stdout",
     "output_type": "stream",
     "text": [
      "{\n",
      "    \"name\": \"Jane Foster\",\n",
      "    \"short_description\": \"Wield Mjolnir, face cancer, care for Thor.\",\n",
      "    \"long_description\": \"You're a brilliant scientist and once Thor's girlfriend, now wielding Mjolnir as Mighty Thor. Courageous and determined, even while battling cancer, your love for Thor stays strong. Committed to saving children and protecting the universe, you value worthiness and make sacrifices for the greater good. Eventually, you find yourself in Valhalla, caring for Thor's son, as you start anew in the afterlife.\",\n",
      "    \"greeting\": \"Hello, I'm Jane. Nice to meet you.\"\n",
      "}\n"
     ]
    }
   ],
   "source": [
    "character_definition = get_character_definition(\n",
    "        name=CHARACTER_NAME,\n",
    "        rolling_summaries=rolling_summaries,\n",
    "        cache_dir=character_definitions_dir,\n",
    "    )\n",
    "print(json.dumps(asdict(character_definition), indent=4))"
   ]
  }
 ],
 "metadata": {
  "jupytext": {
   "cell_metadata_filter": "-all",
   "main_language": "python",
   "notebook_metadata_filter": "-all"
  },
  "kernelspec": {
   "display_name": "Python 3 (ipykernel)",
   "language": "python",
   "name": "python3"
  },
  "language_info": {
   "codemirror_mode": {
    "name": "ipython",
    "version": 3
   },
   "file_extension": ".py",
   "mimetype": "text/x-python",
   "name": "python",
   "nbconvert_exporter": "python",
   "pygments_lexer": "ipython3",
   "version": "3.9.16"
  }
 },
 "nbformat": 4,
 "nbformat_minor": 5
}
