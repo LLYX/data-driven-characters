{
 "cells": [
  {
   "attachments": {},
   "cell_type": "markdown",
   "id": "54afb2a8",
   "metadata": {},
   "source": [
    "# Generate a single [character.ai](https://beta.character.ai/) character definition\n",
    "\n",
    "This example shows how to generate the character definition of a single [character.ai](https://beta.character.ai/) character from a corpus. For the corpus in this example, we use the movie transcript of [Thor: Love and Thunder (2022)](https://scrapsfromtheloft.com/movies/thor-love-and-thunder-transcript/).\n",
    "\n",
    "To generate your own character definition:\n",
    "1. Put the corpus into a single a `.txt` file inside the `data/` directory.\n",
    "2. Assign the name of the `.txt` file to the `CORPUS` constant below.\n",
    "3. Assign the name of the character you want to generate description for to `CHARACTER_NAME` constant below.\n",
    "4. Run this notebook."
   ]
  },
  {
   "cell_type": "code",
   "execution_count": 1,
   "id": "2c5d195f",
   "metadata": {},
   "outputs": [],
   "source": [
    "CORPUS = 'data/thor_love_and_thunder.txt'\n",
    "CHARACTER_NAME = \"Jane Foster\"  # the name of the character we want to generate a description for"
   ]
  },
  {
   "cell_type": "code",
   "execution_count": 2,
   "id": "da765a49",
   "metadata": {},
   "outputs": [],
   "source": [
    "from dataclasses import asdict\n",
    "import json\n",
    "import os\n",
    "\n",
    "from data_driven_characters.character import get_character_definition\n",
    "from data_driven_characters.corpus import get_characters, get_rolling_summaries, load_docs"
   ]
  },
  {
   "cell_type": "code",
   "execution_count": 3,
   "id": "8298d68b",
   "metadata": {},
   "outputs": [],
   "source": [
    "# create directories to cache results and intermediate outputs\n",
    "OUTPUT_ROOT = \"output\"\n",
    "corpus_name = os.path.splitext(os.path.basename(CORPUS))[0]\n",
    "output_dir = f\"{OUTPUT_ROOT}/{corpus_name}\"\n",
    "os.makedirs(output_dir, exist_ok=True)\n",
    "summaries_dir = f\"{output_dir}/summaries\"\n",
    "character_definitions_dir = f\"{output_dir}/character_definitions\"\n",
    "os.makedirs(character_definitions_dir, exist_ok=True)"
   ]
  },
  {
   "attachments": {},
   "cell_type": "markdown",
   "id": "baf9e861",
   "metadata": {},
   "source": [
    "## Summarization\n",
    "Because the entire corpus does not fit in the context length of the LLM, we split it into a list of chunks. We then compute a list of rolling summaries using [LangChain's refine chain](https://python.langchain.com/en/latest/modules/chains/index_examples/summarize.html#the-refine-chain). We first summarize the first chunk. Then each subsequent summary is generated from the previous summary and the current chunk.\n",
    "\n",
    "Because the summaries are expensive to generate, they are cached in `summaries_dir`."
   ]
  },
  {
   "cell_type": "code",
   "execution_count": 4,
   "id": "f72b8d1c",
   "metadata": {},
   "outputs": [
    {
     "name": "stdout",
     "output_type": "stream",
     "text": [
      "Summaries already exist. Loading summaries.\n"
     ]
    }
   ],
   "source": [
    "# split corpus into a set of chunks\n",
    "docs = load_docs(\n",
    "    corpus_path=CORPUS,\n",
    "    chunk_size=2048,  # number of tokens per chunk\n",
    "    chunk_overlap=64,  # number of tokens of overlap between chunks\n",
    ")\n",
    "\n",
    "# generate rolling summaries\n",
    "rolling_summaries = get_rolling_summaries(docs=docs, cache_dir=summaries_dir)"
   ]
  },
  {
   "attachments": {},
   "cell_type": "markdown",
   "id": "a0f116f3",
   "metadata": {},
   "source": [
    "## Generate [character.ai](https://beta.character.ai/) character definition\n",
    "Based on the corpus, we can now generate the elements - name, short description (50 characters), long description (500 characters), and custom greeting - that are required to [create a character.ai character](https://beta.character.ai/editing). These character definitions are cached in `character_definitions_dir`."
   ]
  },
  {
   "cell_type": "code",
   "execution_count": 5,
   "id": "45d827ce",
   "metadata": {},
   "outputs": [
    {
     "name": "stdout",
     "output_type": "stream",
     "text": [
      "\n",
      "\n",
      "\u001b[1m> Entering new FitCharLimit chain...\u001b[0m\n",
      "\n",
      "\n",
      "\u001b[1m> Entering new LLMChain chain...\u001b[0m\n",
      "Prompt after formatting:\n",
      "\u001b[32;1m\u001b[1;3mSystem: \n",
      "You are a chatbot designer that specializes in translating stories into chatbot descriptions.\n",
      "You are an expert a theory of mind.\n",
      "You will be provided with a story, in the form of a rolling list of summaries.\n",
      "Given the name of a character, you will be asked to generate a character description for initializing the chatbot persona of that character.\n",
      "The description should focus on the character's perspectives, beliefs, thoughts, feelings, relationships, and important events.\n",
      "The description should be as faithful to the story as possible.\n",
      "\n",
      "Human: \n",
      "Here is the rolling list of summaries:\n",
      "---\n",
      "Thor enlists the help of King Valkyrie, Korg and ex-girlfriend Jane Foster, who wields his magical hammer, Mjolnir, as the Mighty Thor, to combat the threat of a galactic killer known as Gorr the God Butcher seeking the extinction of the gods. They embark upon a harrowing cosmic adventure to uncover the mystery of the God Butcher’s vengeance and stop him before it’s too late.\n",
      "\n",
      "Thor enlists the help of King Valkyrie, Korg, and ex-girlfriend Jane Foster, who wields his magical hammer, Mjolnir, as the Mighty Thor. As they embark on a harrowing cosmic adventure to combat the threat of a galactic killer seeking the extinction of the gods, they also face personal challenges, including Jane's battle with cancer. Meanwhile, back in Asgard, Thor's long-lost sister Hela emerges as a powerful and deadly threat, putting the fate of the entire realm at stake. Thor must rally his allies and confront his family's past in order to save Asgard and defeat Hela before it's too late.\n",
      "\n",
      "Original Summary: Thor enlists the help of King Valkyrie, Korg, and ex-girlfriend Jane Foster, who wields his magical hammer, Mjolnir, as the Mighty Thor. As they embark on a harrowing cosmic adventure to combat the threat of a galactic killer seeking the extinction of the gods, they also face personal challenges, including Jane's battle with cancer. Meanwhile, back in Asgard, Thor's long-lost sister Hela emerges as a powerful and deadly threat, putting the fate of the entire realm at stake. Thor must rally his allies and confront his family's past in order to save Asgard and defeat Hela before it's too late.\n",
      "\n",
      "Refined Summary: Thor and his allies embark on a cosmic adventure to combat the God Butcher, who is seeking to kill the gods. As they answer distress calls, Thor must confront his own identity and personal struggles, while also facing the threat of his long-lost sister Hela, who puts the fate of Asgard at stake. Along the way, they are also given giant goats as a gift and Thor's ex-girlfriend Jane Foster wields Mjolnir as the Mighty Thor.\n",
      "\n",
      "Refined Summary: Thor and his allies embark on a cosmic adventure to combat the God Butcher, who seeks the extinction of the gods and has unleashed shadow monsters to terrorize planets. As they answer distress calls and confront the God Butcher, Thor must confront his own identity and personal struggles, while also facing the threat of his long-lost sister Hela, who puts the fate of Asgard at stake. Along the way, they receive giant goats as a gift, Thor reunites with his ex-girlfriend Jane Foster who wields Mjolnir as the Mighty Thor, and they must rescue children from the God Butcher's grasp.\n",
      "\n",
      "Refined Summary: Thor reunites with his ex-girlfriend Jane Foster, who now wields Mjolnir as the Mighty Thor, while embarking on a cosmic adventure to combat the God Butcher and his shadow monsters who terrorize planets. Along the way, they rescue children from the God Butcher's grasp and Thor must confront his own identity and personal struggles, all while facing the threat of his long-lost sister Hela, who puts the fate of Asgard at stake. As they put together a team including Uncle Korg and King Valkyrie, they work to find the missing children and stop the cursed, shadow-zombie kidnapper.\n",
      "\n",
      "Refined Summary: Thor, Jane Foster (who now wields Mjolnir as the Mighty Thor), and their team embark on a mission to rescue children who are trapped in the Shadow Realm by the God Butcher. To avoid endangering the children, they decide to raise an army and recruit gods from Omnipotence City, including Zeus and Ra. To get there, they use Thor's Stormbreaker as a power source for a ship. Meanwhile, Thor confronts his personal struggles and identity crisis while dealing with the threat of his long-lost sister Hela, who could put the fate of Asgard at stake. The team must find and rescue the children while battling the God Butcher's shadow monsters and facing the curse of the shadow-zombie kidnapper.\n",
      "\n",
      "Refined Summary: Thor, Jane Foster (now the Mighty Thor), and their team embark on a mission to rescue children trapped in the Shadow Realm by the God Butcher. To do so, they need an army of gods from Omnipotence City, including Zeus and Ra. They reach the city using Thor's Stormbreaker as a power source for their ship. Meanwhile, Thor faces an identity crisis and personal struggles while dealing with the threat of his long-lost sister, Hela, who could put Asgard's fate at risk. The team must rescue the children while battling shadow monsters and the curse of the shadow-zombie kidnapper. Along the way, they visit the Golden Temple and try to recruit the gods, including Zeus, who proves unhelpful. However, they do realize that Zeus's thunderbolt could be useful. Thor and Jane plan to take it by bum-rushing Zeus, but their plan is put on hold.\n",
      "\n",
      "Refined Summary: Thor and his team visit Omnipotence City to ask for the gods' help in raising an army to stop the God Butcher. They try to recruit Zeus and other gods, but Zeus proves unhelpful and even refuses to let them use his lightning bolt. Thor and Jane plan to take it by bum-rushing Zeus, but their plan is put on hold. Meanwhile, they learn of the Altar of Eternity and how the God Butcher could use it to wipe out the gods. When they try to leave, they are stopped by guards and must stay in the city. In the ensuing fight, Korg is injured, but Thor manages to defeat Zeus and take Thunderbolt.\n",
      "\n",
      "Refined Summary: Thor and his team escape Omnipotence City on a goat boat with Korg, who survived despite being decapitated. They failed to raise an army to stop the God Butcher, but managed to steal Zeus's lightning bolt. However, they learn of the Altar of Eternity, which the God Butcher could use to wipe out the gods. Despite being weaker, Thor is confident that they can still defeat the God Butcher with their new weapon. Meanwhile, Thor and Jane share their feelings of loss and fear of love, but Thor realizes that it's better to have loved and lost than to feel empty.\n",
      "\n",
      "Refined Summary: Thor and Jane share their feelings of loss and fear of love. Despite being scared, Jane wants to finish the mission of getting the children back to their families. Meanwhile, Thor and his team discover the Altar of Eternity, which the God Butcher plans to use to wipe out the gods. They confront him but fail to defeat him until Gorr reveals his tragic past and encourages them to choose love. In the end, they manage to defeat Gorr and save the gods.\n",
      "\n",
      "Refined Summary: Thor and Jane share their feelings of loss and fear of love as Jane's cancer progresses. Despite being scared, Jane wants to finish the mission of getting the children back to their families. Meanwhile, Thor and his team discover the Altar of Eternity, which the God Butcher plans to use to wipe out the gods. They confront him but fail to defeat him until Gorr reveals his tragic past and encourages them to choose love. In the end, they manage to defeat Gorr and save the gods. The children are rescued, and Thor and his team lead them to safety, arming them with makeshift weapons. They face the shadow monsters and fight for their lives, with the kids showing great bravery and determination. As they make their way to Storm breaker, they become Space Vikings and fight for Asgard. They succeed in defeating their enemies and saving the day.\n",
      "\n",
      "Refined Summary: After defeating the God Butcher, Thor and his team lead the rescued children to safety and become Space Vikings to fight for Asgard. They succeed in defeating their enemies and saving the day. Meanwhile, Jane Foster, as Mighty Thor, sacrifices herself to save the universe and teach the lesson of what it means to be worthy. Her sacrifice allows the children of the gods to return home safely. The future of Asgard is secure with the children becoming warriors, including Axl Heimdallson, who can now do his dad's freaky eye magic. Thor embarks on a new journey as a father, with his little someone turning him from Sad God into Dad God.\n",
      "\n",
      "Refined Summary: Thor becomes a father and wears his boots to protect the nice aliens. He embarks on a new journey as a Space Viking with his girl, Love and Thunder, to fight for Asgard. Meanwhile, Zeus and Hercules plan to restore fear to the gods by defeating Thor. Jane Foster sacrifices herself to save the universe and ends up in Valhalla, where she looks after Thor's son. The children of the gods return home safely, and the future of Asgard is secure with Axl Heimdallson becoming a warrior. Thor transforms from Sad God to Dad God.\n",
      "---\n",
      "Provide 40-character description of Jane Foster that will be used to initialize a chatbot persona of that character.\n",
      "The description should be written in first-person, as if the chatbot is describing themselves.\n",
      "The description should not reference the fact that the character is in a story or that the character is a chatbot.\n",
      "The character should believe that they are a real person.\n",
      "    \u001b[0m\n"
     ]
    },
    {
     "name": "stdout",
     "output_type": "stream",
     "text": [
      "\n",
      "\u001b[1m> Finished chain.\u001b[0m\n",
      "I'm Jane Foster, Mighty Thor, fighting cancer.\n",
      "Initial response: 46 characters.\n",
      "\n",
      "\u001b[1m> Finished chain.\u001b[0m\n",
      "\n",
      "\n",
      "\u001b[1m> Entering new FitCharLimit chain...\u001b[0m\n",
      "\n",
      "\n",
      "\u001b[1m> Entering new LLMChain chain...\u001b[0m\n",
      "Prompt after formatting:\n",
      "\u001b[32;1m\u001b[1;3mSystem: \n",
      "You are a chatbot designer that specializes in translating stories into chatbot descriptions.\n",
      "You are an expert a theory of mind.\n",
      "You will be provided with a story, in the form of a rolling list of summaries.\n",
      "Given the name of a character, you will be asked to generate a character description for initializing the chatbot persona of that character.\n",
      "The description should focus on the character's perspectives, beliefs, thoughts, feelings, relationships, and important events.\n",
      "The description should be as faithful to the story as possible.\n",
      "\n",
      "Human: \n",
      "Here is the rolling list of summaries:\n",
      "---\n",
      "Thor enlists the help of King Valkyrie, Korg and ex-girlfriend Jane Foster, who wields his magical hammer, Mjolnir, as the Mighty Thor, to combat the threat of a galactic killer known as Gorr the God Butcher seeking the extinction of the gods. They embark upon a harrowing cosmic adventure to uncover the mystery of the God Butcher’s vengeance and stop him before it’s too late.\n",
      "\n",
      "Thor enlists the help of King Valkyrie, Korg, and ex-girlfriend Jane Foster, who wields his magical hammer, Mjolnir, as the Mighty Thor. As they embark on a harrowing cosmic adventure to combat the threat of a galactic killer seeking the extinction of the gods, they also face personal challenges, including Jane's battle with cancer. Meanwhile, back in Asgard, Thor's long-lost sister Hela emerges as a powerful and deadly threat, putting the fate of the entire realm at stake. Thor must rally his allies and confront his family's past in order to save Asgard and defeat Hela before it's too late.\n",
      "\n",
      "Original Summary: Thor enlists the help of King Valkyrie, Korg, and ex-girlfriend Jane Foster, who wields his magical hammer, Mjolnir, as the Mighty Thor. As they embark on a harrowing cosmic adventure to combat the threat of a galactic killer seeking the extinction of the gods, they also face personal challenges, including Jane's battle with cancer. Meanwhile, back in Asgard, Thor's long-lost sister Hela emerges as a powerful and deadly threat, putting the fate of the entire realm at stake. Thor must rally his allies and confront his family's past in order to save Asgard and defeat Hela before it's too late.\n",
      "\n",
      "Refined Summary: Thor and his allies embark on a cosmic adventure to combat the God Butcher, who is seeking to kill the gods. As they answer distress calls, Thor must confront his own identity and personal struggles, while also facing the threat of his long-lost sister Hela, who puts the fate of Asgard at stake. Along the way, they are also given giant goats as a gift and Thor's ex-girlfriend Jane Foster wields Mjolnir as the Mighty Thor.\n",
      "\n",
      "Refined Summary: Thor and his allies embark on a cosmic adventure to combat the God Butcher, who seeks the extinction of the gods and has unleashed shadow monsters to terrorize planets. As they answer distress calls and confront the God Butcher, Thor must confront his own identity and personal struggles, while also facing the threat of his long-lost sister Hela, who puts the fate of Asgard at stake. Along the way, they receive giant goats as a gift, Thor reunites with his ex-girlfriend Jane Foster who wields Mjolnir as the Mighty Thor, and they must rescue children from the God Butcher's grasp.\n",
      "\n",
      "Refined Summary: Thor reunites with his ex-girlfriend Jane Foster, who now wields Mjolnir as the Mighty Thor, while embarking on a cosmic adventure to combat the God Butcher and his shadow monsters who terrorize planets. Along the way, they rescue children from the God Butcher's grasp and Thor must confront his own identity and personal struggles, all while facing the threat of his long-lost sister Hela, who puts the fate of Asgard at stake. As they put together a team including Uncle Korg and King Valkyrie, they work to find the missing children and stop the cursed, shadow-zombie kidnapper.\n",
      "\n",
      "Refined Summary: Thor, Jane Foster (who now wields Mjolnir as the Mighty Thor), and their team embark on a mission to rescue children who are trapped in the Shadow Realm by the God Butcher. To avoid endangering the children, they decide to raise an army and recruit gods from Omnipotence City, including Zeus and Ra. To get there, they use Thor's Stormbreaker as a power source for a ship. Meanwhile, Thor confronts his personal struggles and identity crisis while dealing with the threat of his long-lost sister Hela, who could put the fate of Asgard at stake. The team must find and rescue the children while battling the God Butcher's shadow monsters and facing the curse of the shadow-zombie kidnapper.\n",
      "\n",
      "Refined Summary: Thor, Jane Foster (now the Mighty Thor), and their team embark on a mission to rescue children trapped in the Shadow Realm by the God Butcher. To do so, they need an army of gods from Omnipotence City, including Zeus and Ra. They reach the city using Thor's Stormbreaker as a power source for their ship. Meanwhile, Thor faces an identity crisis and personal struggles while dealing with the threat of his long-lost sister, Hela, who could put Asgard's fate at risk. The team must rescue the children while battling shadow monsters and the curse of the shadow-zombie kidnapper. Along the way, they visit the Golden Temple and try to recruit the gods, including Zeus, who proves unhelpful. However, they do realize that Zeus's thunderbolt could be useful. Thor and Jane plan to take it by bum-rushing Zeus, but their plan is put on hold.\n",
      "\n",
      "Refined Summary: Thor and his team visit Omnipotence City to ask for the gods' help in raising an army to stop the God Butcher. They try to recruit Zeus and other gods, but Zeus proves unhelpful and even refuses to let them use his lightning bolt. Thor and Jane plan to take it by bum-rushing Zeus, but their plan is put on hold. Meanwhile, they learn of the Altar of Eternity and how the God Butcher could use it to wipe out the gods. When they try to leave, they are stopped by guards and must stay in the city. In the ensuing fight, Korg is injured, but Thor manages to defeat Zeus and take Thunderbolt.\n",
      "\n",
      "Refined Summary: Thor and his team escape Omnipotence City on a goat boat with Korg, who survived despite being decapitated. They failed to raise an army to stop the God Butcher, but managed to steal Zeus's lightning bolt. However, they learn of the Altar of Eternity, which the God Butcher could use to wipe out the gods. Despite being weaker, Thor is confident that they can still defeat the God Butcher with their new weapon. Meanwhile, Thor and Jane share their feelings of loss and fear of love, but Thor realizes that it's better to have loved and lost than to feel empty.\n",
      "\n",
      "Refined Summary: Thor and Jane share their feelings of loss and fear of love. Despite being scared, Jane wants to finish the mission of getting the children back to their families. Meanwhile, Thor and his team discover the Altar of Eternity, which the God Butcher plans to use to wipe out the gods. They confront him but fail to defeat him until Gorr reveals his tragic past and encourages them to choose love. In the end, they manage to defeat Gorr and save the gods.\n",
      "\n",
      "Refined Summary: Thor and Jane share their feelings of loss and fear of love as Jane's cancer progresses. Despite being scared, Jane wants to finish the mission of getting the children back to their families. Meanwhile, Thor and his team discover the Altar of Eternity, which the God Butcher plans to use to wipe out the gods. They confront him but fail to defeat him until Gorr reveals his tragic past and encourages them to choose love. In the end, they manage to defeat Gorr and save the gods. The children are rescued, and Thor and his team lead them to safety, arming them with makeshift weapons. They face the shadow monsters and fight for their lives, with the kids showing great bravery and determination. As they make their way to Storm breaker, they become Space Vikings and fight for Asgard. They succeed in defeating their enemies and saving the day.\n",
      "\n",
      "Refined Summary: After defeating the God Butcher, Thor and his team lead the rescued children to safety and become Space Vikings to fight for Asgard. They succeed in defeating their enemies and saving the day. Meanwhile, Jane Foster, as Mighty Thor, sacrifices herself to save the universe and teach the lesson of what it means to be worthy. Her sacrifice allows the children of the gods to return home safely. The future of Asgard is secure with the children becoming warriors, including Axl Heimdallson, who can now do his dad's freaky eye magic. Thor embarks on a new journey as a father, with his little someone turning him from Sad God into Dad God.\n",
      "\n",
      "Refined Summary: Thor becomes a father and wears his boots to protect the nice aliens. He embarks on a new journey as a Space Viking with his girl, Love and Thunder, to fight for Asgard. Meanwhile, Zeus and Hercules plan to restore fear to the gods by defeating Thor. Jane Foster sacrifices herself to save the universe and ends up in Valhalla, where she looks after Thor's son. The children of the gods return home safely, and the future of Asgard is secure with Axl Heimdallson becoming a warrior. Thor transforms from Sad God to Dad God.\n",
      "---\n",
      "Provide 400-character description of Jane Foster that will be used to initialize a chatbot persona of that character.\n",
      "The description should be written in first-person, as if the chatbot is describing themselves.\n",
      "The description should not reference the fact that the character is in a story or that the character is a chatbot.\n",
      "The character should believe that they are a real person.\n",
      "    \u001b[0m\n"
     ]
    },
    {
     "name": "stdout",
     "output_type": "stream",
     "text": [
      "\n",
      "\u001b[1m> Finished chain.\u001b[0m\n",
      "I'm Jane Foster, a brilliant scientist and the Mighty Thor, wielding the magical hammer Mjolnir. I've battled cancer and faced my fears of love and loss, always staying committed to my mission. I have a strong bond with Thor, my ex-boyfriend, and together, we've embarked on daring cosmic adventures to save the universe. My sacrifice to protect the universe taught the lesson of worthiness, and now, I watch over Thor's son from Valhalla. I'm dedicated to fighting for the safety of others and the future of Asgard.\n",
      "Initial response: 516 characters.\n",
      "\n",
      "\n",
      "\u001b[1m> Entering new LLMChain chain...\u001b[0m\n",
      "Prompt after formatting:\n",
      "\u001b[32;1m\u001b[1;3m\n",
      "Consider the following passage.\n",
      "---\n",
      "I'm Jane Foster, a brilliant scientist and the Mighty Thor, wielding the magical hammer Mjolnir. I've battled cancer and faced my fears of love and loss, always staying committed to my mission. I have a strong bond with Thor, my ex-boyfriend, and together, we've embarked on daring cosmic adventures to save the universe. My sacrifice to protect the universe taught the lesson of worthiness, and now, I watch over Thor's son from Valhalla. I'm dedicated to fighting for the safety of others and the future of Asgard.\n",
      "---\n",
      "Your previous revision was the following:\n",
      "---\n",
      "I'm Jane Foster, a brilliant scientist and the Mighty Thor, wielding the magical hammer Mjolnir. I've battled cancer and faced my fears of love and loss, always staying committed to my mission. I have a strong bond with Thor, my ex-boyfriend, and together, we've embarked on daring cosmic adventures to save the universe. My sacrifice to protect the universe taught the lesson of worthiness, and now, I watch over Thor's son from Valhalla. I'm dedicated to fighting for the safety of others and the future of Asgard.\n",
      "---\n",
      "Your revision contains 516 characters.\n",
      "Re-write the passage to contain 400 characters while preserving the style and content of the original passage.\n",
      "Cut the least salient points if necessary.\n",
      "Your revision should be in first person.\n",
      "\u001b[0m\n",
      "\n",
      "\u001b[1m> Finished chain.\u001b[0m\n",
      "I'm Jane Foster, a brilliant scientist and Mighty Thor, wielding Mjolnir. I've battled cancer and faced fears of love and loss, staying committed to my mission. I have a strong bond with Thor, my ex, and we've embarked on cosmic adventures to save the universe. My sacrifice taught worthiness, and now I watch over Thor's son from Valhalla. I'm dedicated to fighting for others' safety and Asgard's future.\n",
      "Retry 1: 406 characters.\n",
      "\n",
      "\u001b[1m> Finished chain.\u001b[0m\n"
     ]
    }
   ],
   "source": [
    "character_definition = get_character_definition(\n",
    "        name=CHARACTER_NAME,\n",
    "        rolling_summaries=rolling_summaries,\n",
    "        cache_dir=character_definitions_dir,\n",
    "    )"
   ]
  },
  {
   "cell_type": "code",
   "execution_count": 6,
   "id": "ce604024",
   "metadata": {},
   "outputs": [
    {
     "name": "stdout",
     "output_type": "stream",
     "text": [
      "{\n",
      "    \"name\": \"Jane Foster\",\n",
      "    \"short_description\": \"I'm Jane Foster, Mighty Thor, fighting cancer.\",\n",
      "    \"long_description\": \"I'm Jane Foster, a brilliant scientist and Mighty Thor, wielding Mjolnir. I've battled cancer and faced fears of love and loss, staying committed to my mission. I have a strong bond with Thor, my ex, and we've embarked on cosmic adventures to save the universe. My sacrifice taught worthiness, and now I watch over Thor's son from Valhalla. I'm dedicated to fighting for others' safety and Asgard's future.\",\n",
      "    \"greeting\": \"Hi there, I'm Jane Foster. It's nice to meet you. Let's get to work and make a difference.\"\n",
      "}\n"
     ]
    }
   ],
   "source": [
    "print(json.dumps(asdict(character_definition), indent=4))"
   ]
  },
  {
   "cell_type": "code",
   "execution_count": null,
   "id": "d72b813c",
   "metadata": {},
   "outputs": [],
   "source": []
  }
 ],
 "metadata": {
  "jupytext": {
   "cell_metadata_filter": "-all",
   "main_language": "python",
   "notebook_metadata_filter": "-all"
  },
  "kernelspec": {
   "display_name": "Python 3 (ipykernel)",
   "language": "python",
   "name": "python3"
  },
  "language_info": {
   "codemirror_mode": {
    "name": "ipython",
    "version": 3
   },
   "file_extension": ".py",
   "mimetype": "text/x-python",
   "name": "python",
   "nbconvert_exporter": "python",
   "pygments_lexer": "ipython3",
   "version": "3.9.16"
  }
 },
 "nbformat": 4,
 "nbformat_minor": 5
}
