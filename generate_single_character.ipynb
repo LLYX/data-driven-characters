{
 "cells": [
  {
   "cell_type": "code",
   "execution_count": 1,
   "id": "37710752",
   "metadata": {},
   "outputs": [],
   "source": [
    "from dataclasses import asdict\n",
    "import json\n",
    "import os"
   ]
  },
  {
   "cell_type": "code",
   "execution_count": 2,
   "id": "b5be1b4d",
   "metadata": {},
   "outputs": [],
   "source": [
    "from src.character import get_character_definition\n",
    "from src.corpus import get_characters, get_rolling_summaries, load_docs"
   ]
  },
  {
   "cell_type": "code",
   "execution_count": 3,
   "id": "29125476",
   "metadata": {},
   "outputs": [],
   "source": [
    "OUTPUT_ROOT = \"output\"\n",
    "CORPUS = 'thor_love_and_thunder.txt'\n",
    "\n",
    "CHUNK_SIZE = 2048  # number of tokens to ingest for each iteration of the rolling summary\n",
    "CHUNK_OVERLAP = 64  # number of tokens of overlap for each iteration of the rolling summary\n",
    "\n",
    "CHARACTER_NAME = \"Jane Foster\"  # the name of the character we want to generate a description for"
   ]
  },
  {
   "cell_type": "code",
   "execution_count": 4,
   "id": "8298d68b",
   "metadata": {},
   "outputs": [],
   "source": [
    "# logging\n",
    "corpus_name = os.path.splitext(CORPUS)[0]\n",
    "output_dir = f\"{OUTPUT_ROOT}/{corpus_name}\"\n",
    "os.makedirs(output_dir, exist_ok=True)\n",
    "summaries_dir = f\"{output_dir}/summaries\"\n",
    "character_definitions_dir = f\"{output_dir}/character_definitions\"\n",
    "os.makedirs(character_definitions_dir, exist_ok=True)"
   ]
  },
  {
   "cell_type": "code",
   "execution_count": null,
   "id": "f72b8d1c",
   "metadata": {},
   "outputs": [],
   "source": [
    "# load docs\n",
    "docs = load_docs(\n",
    "    corpus_name=CORPUS,\n",
    "    chunk_size=CHUNK_SIZE,\n",
    "    chunk_overlap=CHUNK_OVERLAP,\n",
    ")\n",
    "\n",
    "# generate rolling summaries\n",
    "intermediate_summaries = get_rolling_summaries(docs=docs, cache_dir=summaries_dir)\n",
    "rolling_summaries = \"\\n\\n\".join(intermediate_summaries)"
   ]
  },
  {
   "cell_type": "code",
   "execution_count": 6,
   "id": "45d827ce",
   "metadata": {},
   "outputs": [
    {
     "name": "stdout",
     "output_type": "stream",
     "text": [
      "{\n",
      "    \"name\": \"Jane Foster\",\n",
      "    \"short_description\": \"Wield Mjolnir, face cancer, care for Thor.\",\n",
      "    \"long_description\": \"You're a brilliant scientist and once Thor's girlfriend, now wielding Mjolnir as Mighty Thor. Courageous and determined, even while battling cancer, your love for Thor stays strong. Committed to saving children and protecting the universe, you value worthiness and make sacrifices for the greater good. Eventually, you find yourself in Valhalla, caring for Thor's son, as you start anew in the afterlife.\",\n",
      "    \"greeting\": \"Hello, I'm Jane. Nice to meet you.\"\n",
      "}\n"
     ]
    }
   ],
   "source": [
    "character_definition = get_character_definition(\n",
    "        name=CHARACTER_NAME,\n",
    "        rolling_summaries=rolling_summaries,\n",
    "        cache_dir=character_definitions_dir,\n",
    "    )\n",
    "print(json.dumps(asdict(character_definition), indent=4))"
   ]
  },
  {
   "cell_type": "code",
   "execution_count": null,
   "id": "bd30d1a0",
   "metadata": {},
   "outputs": [],
   "source": []
  }
 ],
 "metadata": {
  "jupytext": {
   "cell_metadata_filter": "-all",
   "main_language": "python",
   "notebook_metadata_filter": "-all"
  },
  "kernelspec": {
   "display_name": "Python 3 (ipykernel)",
   "language": "python",
   "name": "python3"
  },
  "language_info": {
   "codemirror_mode": {
    "name": "ipython",
    "version": 3
   },
   "file_extension": ".py",
   "mimetype": "text/x-python",
   "name": "python",
   "nbconvert_exporter": "python",
   "pygments_lexer": "ipython3",
   "version": "3.9.16"
  }
 },
 "nbformat": 4,
 "nbformat_minor": 5
}
